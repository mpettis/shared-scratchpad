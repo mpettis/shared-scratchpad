{
 "cells": [
  {
   "cell_type": "markdown",
   "metadata": {},
   "source": [
    "# Example call to rules engine\n",
    "\n",
    "```\n",
    "# https://realpython.com/python-requests/\n",
    "import requests\n",
    "response = requests.post('http://localhost:3000/rules', json={'action':1, 'switchon_laststate':0, 'switchon_left':0})\n",
    "json_response = response.json()\n",
    "json_response\n",
    "```"
   ]
  },
  {
   "cell_type": "code",
   "execution_count": 1,
   "metadata": {},
   "outputs": [],
   "source": [
    "###-----------------------------------------------------------------------------\n",
    "## Imports\n",
    "import pandas as pd\n",
    "import matplotlib.pyplot as plt\n",
    "import numpy as np\n",
    "import math\n",
    "from tensorforce.environments import Environment\n",
    "from tensorforce.agents import Agent\n",
    "import requests"
   ]
  },
  {
   "cell_type": "markdown",
   "metadata": {},
   "source": [
    "# Set up environment\n",
    "\n",
    "Want to set up environment that can call out to a rules system and check for bad actions, return a reward but do not advance the state, let them retry."
   ]
  },
  {
   "cell_type": "code",
   "execution_count": 2,
   "metadata": {},
   "outputs": [
    {
     "data": {
      "text/plain": [
       "(array([0.30979109, 3.        ]), 0, 1.565846828467547)"
      ]
     },
     "execution_count": 2,
     "metadata": {},
     "output_type": "execute_result"
    }
   ],
   "source": [
    "###-----------------------------------------------------------------------------\n",
    "### Environment definition\n",
    "class ThermostatEnvironment(Environment):\n",
    "    def __init__(self):\n",
    "        super().__init__()\n",
    "\n",
    "        ## Some initializations.  Will eventually parameterize this in the constructor.\n",
    "        self.tau = 3.0 # Time decay constant\n",
    "        self.timestep = 0 # Local tracking of timestep\n",
    "\n",
    "        ## Managing switching on from off.\n",
    "        ## Set an interval in which we can do a maximum number of switchons from off\n",
    "        self.switchon_period = 10 \n",
    "        self.switchon_max = 3.0\n",
    "        ## Keep track of last state\n",
    "        self.switchon_laststate = 0\n",
    "        ## Keep record of when we switched off to on\n",
    "        self.switchon_record = []\n",
    "        \n",
    "        ## State depends on how we define state.\n",
    "        ## Here, state is just the current temp\n",
    "        self.state = np.append(np.random.random(size=(1,)),np.array([self.switchon_max]))\n",
    "\n",
    "\n",
    "    def reset(self):\n",
    "        \"\"\"Reset state.\n",
    "        \"\"\"\n",
    "        self.switchon_record = []\n",
    "        self.timestep = 0\n",
    "        self.state = np.append(np.random.random(size=(1,)),np.array([self.switchon_max]))\n",
    "        return self.state\n",
    "\n",
    "\n",
    "    # Optional, should only be defined if environment has a natural maximum\n",
    "    # episode length\n",
    "    def max_episode_timesteps(self):\n",
    "        return super().max_episode_timesteps()\n",
    "\n",
    "\n",
    "    # Optional\n",
    "#     def close(self):\n",
    "#         super().close()\n",
    "\n",
    "\n",
    "    def states(self):\n",
    "        return dict(type='float', shape=(2,))\n",
    "\n",
    "\n",
    "    def actions(self):\n",
    "        \"\"\"Action 0 means no heater, temperature approaches 0.0.  Action 1 means\n",
    "        the heater is on and the room temperature approaches 1.0.\n",
    "        \"\"\"\n",
    "        return dict(type='int', num_values=2)\n",
    "\n",
    "\n",
    "#     def response(self, action):\n",
    "#         \"\"\"Respond to an action.  When the action is 1, the temperature\n",
    "#         exponentially decays approaches 1.0.  When the action is 0,\n",
    "#         the current temperature decays towards 0.0.\n",
    "#         \"\"\"\n",
    "#         new_temp = action + (self.state[0] - action) * math.exp(-1.0 / self.tau)\n",
    "#         return np.array([new_temp,\n",
    "#                          self.state[1]])\n",
    "\n",
    "\n",
    "    def reward_compute(self):\n",
    "        \"\"\"Return the value within the numpy array, not the numpy array.\n",
    "        \"\"\"\n",
    "        delta = abs(self.state[0] - 0.5)\n",
    "        if delta < 0.4:\n",
    "            return 2.0 - 12.0 * pow(delta, 2)\n",
    "        else:\n",
    "            return -3.0\n",
    "\n",
    "\n",
    "    def execute(self, actions):\n",
    "        ## Update timestep\n",
    "        self.timestep += 1\n",
    "        \n",
    "        \n",
    "        ## =====================================\n",
    "        ## HERE WE INSTRUMENT CALL TO RULES\n",
    "        ## =====================================\n",
    "        ## Shortcut if call to rules engine gives an exception.\n",
    "        lstWindowEvents = [e for e in self.switchon_record\n",
    "                              if self.timestep - e <= self.switchon_period]\n",
    "        switchon_left = int(self.switchon_max) - len(lstWindowEvents)\n",
    " \n",
    "        ## Check the rules\n",
    "        response = requests.post('http://localhost:3000/rules',\n",
    "                                 json={'action':int(actions),\n",
    "                                       'switchon_laststate':int(self.switchon_laststate),\n",
    "                                       'switchon_left':int(switchon_left)})\n",
    "        json_response = response.json()\n",
    "        \n",
    "        ## Simple check here - if the response is of non-zero length, there was\n",
    "        ## a rulefail.\n",
    "        ## Return previous state but with a penalty.\n",
    "        if len(json_response) > 0:\n",
    "            return self.state, False, -10.0\n",
    "\n",
    "        \n",
    "        \n",
    "        ###--------------------------------------\n",
    "        ## Compute update to available actions\n",
    "        ## Update off_to_ons if necessary\n",
    "        if actions == 1 and self.switchon_laststate == 0:\n",
    "            self.switchon_record += [self.timestep]\n",
    "\n",
    "        ## Update last state to current state\n",
    "        self.switchon_laststate = actions\n",
    "\n",
    "\n",
    "        ###--------------------------------------\n",
    "        ## First slot of state, which is the updated temperature\n",
    "        # self.state = self.response(actions)\n",
    "        self.state[0] = actions + (self.state[0] - actions) * math.exp(-1.0 / self.tau)\n",
    "\n",
    "        \n",
    "        ###--------------------------------------\n",
    "        ## Update 2nd slot of state, which is remaining startups\n",
    "        ## Make a list of the events within the window\n",
    "#         lstWindowEvents = [e for e in self.switchon_record\n",
    "#                               if self.timestep - e <= self.switchon_period]\n",
    "        \n",
    "        self.state[1] = self.switchon_max - np.float(len(lstWindowEvents))\n",
    "\n",
    "        ###--------------------------------------\n",
    "        ## Check conditions for return\n",
    "        ## If we have done too many startups, end episode, return penalty\n",
    "        ## Commenting this out means that this environment has no constraint on startups\n",
    "        if int(self.state[1]) < 0:\n",
    "#             return self.state, True, -10.0\n",
    "            print(\"BAD COMMAND PASSED TO ENVIRONMENT\")\n",
    "\n",
    "        ## Compute the reward\n",
    "        reward = self.reward_compute()\n",
    "\n",
    "        ## Return tuple of (state, terminal, reward)\n",
    "        return self.state, False, reward\n",
    "\n",
    "\n",
    "###-----------------------------------------------------------------------------\n",
    "### Create the environment\n",
    "###   - Tell it the environment class\n",
    "###   - Set the max timestamps that can happen per episode\n",
    "environment = environment = Environment.create(\n",
    "    environment=ThermostatEnvironment,\n",
    "    max_episode_timesteps=100)\n",
    "\n",
    "\n",
    "environment.reset()\n",
    "environment.execute(1)"
   ]
  },
  {
   "cell_type": "code",
   "execution_count": 3,
   "metadata": {},
   "outputs": [
    {
     "data": {
      "text/plain": [
       "{'_max_episode_timesteps': 100,\n",
       " '_expect_receive': None,\n",
       " '_actions': None,\n",
       " 'tau': 3.0,\n",
       " 'timestep': 1,\n",
       " 'switchon_period': 10,\n",
       " 'switchon_max': 3.0,\n",
       " 'switchon_laststate': 1,\n",
       " 'switchon_record': [1],\n",
       " 'state': array([0.30979109, 3.        ])}"
      ]
     },
     "execution_count": 3,
     "metadata": {},
     "output_type": "execute_result"
    }
   ],
   "source": [
    "# environment.environment.__dict__\n",
    "vars(environment.environment)"
   ]
  },
  {
   "cell_type": "markdown",
   "metadata": {},
   "source": [
    "# Agent setup\n",
    "\n",
    "Here we configure a type of agent to learn against this environment.  There are many agent configurations to choose from, which we will not cover here.  We will not discuss what type of agent to choose here -- we will just take a basic agent to train."
   ]
  },
  {
   "cell_type": "code",
   "execution_count": 4,
   "metadata": {},
   "outputs": [
    {
     "name": "stdout",
     "output_type": "stream",
     "text": [
      "WARNING:tensorflow:From C:\\Users\\matth\\Anaconda3\\envs\\tf2\\lib\\site-packages\\tensorflow_core\\python\\ops\\resource_variable_ops.py:1630: calling BaseResourceVariable.__init__ (from tensorflow.python.ops.resource_variable_ops) with constraint is deprecated and will be removed in a future version.\n",
      "Instructions for updating:\n",
      "If using Keras pass *_constraint arguments to layers.\n",
      "INFO:tensorflow:Graph was finalized.\n",
      "INFO:tensorflow:Running local_init_op.\n",
      "INFO:tensorflow:Done running local_init_op.\n"
     ]
    }
   ],
   "source": [
    "agent = Agent.create(\n",
    "    agent='tensorforce', environment=environment, update=64,\n",
    "    objective='policy_gradient', reward_estimation=dict(horizon=20)\n",
    ")"
   ]
  },
  {
   "cell_type": "markdown",
   "metadata": {},
   "source": [
    "# Check: Untrained Agent Performance\n",
    "\n",
    "Let's see how the untrained agent performs on the environment.  The red horizontal lines are the target bands for the temperature.\n",
    "\n",
    "The agent doesn't take actions to try and get the temperature within the bands.  It either initializes a policy to the heater always off or always on."
   ]
  },
  {
   "cell_type": "code",
   "execution_count": 5,
   "metadata": {},
   "outputs": [
    {
     "data": {
      "text/plain": [
       "{'_max_episode_timesteps': 100,\n",
       " '_expect_receive': None,\n",
       " '_actions': None,\n",
       " 'tau': 3.0,\n",
       " 'timestep': 0,\n",
       " 'switchon_period': 10,\n",
       " 'switchon_max': 3.0,\n",
       " 'switchon_laststate': 1,\n",
       " 'switchon_record': [],\n",
       " 'state': array([0.32811846, 3.        ])}"
      ]
     },
     "execution_count": 5,
     "metadata": {},
     "output_type": "execute_result"
    }
   ],
   "source": [
    "### Initialize\n",
    "environment.reset()\n",
    "vars(environment.environment)"
   ]
  },
  {
   "cell_type": "code",
   "execution_count": 6,
   "metadata": {
    "scrolled": true
   },
   "outputs": [
    {
     "data": {
      "image/png": "[encoded data removed]",
      "text/plain": [
       "<Figure size 864x288 with 1 Axes>"
      ]
     },
     "metadata": {
      "needs_background": "light"
     },
     "output_type": "display_data"
    }
   ],
   "source": [
    "## Creation of the environment via Environment.create() creates\n",
    "## a wrapper class around the original Environment defined here.\n",
    "## That wrapper mainly keeps track of the number of timesteps.\n",
    "## In order to alter the attributes of your instance of the original\n",
    "## class, like to set the initial temp to a custom value, like here,\n",
    "## you need to access the `environment` member of this wrapped class.\n",
    "## That is why you see the way to set the current_temp like below.\n",
    "# environment.environment.current_temp = np.array([0.5])\n",
    "# states = environment.environment.current_temp\n",
    "environment.reset()\n",
    "\n",
    "internals = agent.initial_internals()\n",
    "terminal = False\n",
    "\n",
    "### Run an episode\n",
    "temp = [environment.environment.state[0]]\n",
    "while not terminal:\n",
    "    actions, internals = agent.act(states=environment.environment.state, internals=internals, evaluation=True)\n",
    "    states, terminal, reward = environment.execute(actions=actions)\n",
    "    temp += [states[0]]\n",
    "    \n",
    "### Plot the run\n",
    "plt.figure(figsize=(12, 4))\n",
    "ax=plt.subplot()\n",
    "ax.set_ylim([0.0, 1.0])\n",
    "plt.plot(range(len(temp)), temp)\n",
    "plt.hlines(y=0.4, xmin=0, xmax=99, color='r')\n",
    "plt.hlines(y=0.6, xmin=0, xmax=99, color='r')\n",
    "plt.xlabel('Timestep')\n",
    "plt.ylabel('Temperature')\n",
    "plt.title('Temperature vs. Timestep')\n",
    "plt.show()"
   ]
  },
  {
   "cell_type": "code",
   "execution_count": 7,
   "metadata": {},
   "outputs": [
    {
     "data": {
      "text/plain": [
       "{'_max_episode_timesteps': 100,\n",
       " '_expect_receive': None,\n",
       " '_actions': None,\n",
       " 'tau': 3.0,\n",
       " 'timestep': 100,\n",
       " 'switchon_period': 10,\n",
       " 'switchon_max': 3.0,\n",
       " 'switchon_laststate': 1,\n",
       " 'switchon_record': [],\n",
       " 'state': array([1., 3.])}"
      ]
     },
     "execution_count": 7,
     "metadata": {},
     "output_type": "execute_result"
    }
   ],
   "source": [
    "vars(environment.environment)"
   ]
  },
  {
   "cell_type": "markdown",
   "metadata": {},
   "source": [
    "# Train the agent\n",
    "\n",
    "Here we train the agent against episodes of interacting with the environment."
   ]
  },
  {
   "cell_type": "code",
   "execution_count": null,
   "metadata": {},
   "outputs": [],
   "source": [
    "# Train for 200 episodes\n",
    "for _ in range(10000):\n",
    "    states = environment.reset()\n",
    "    terminal = False\n",
    "    while not terminal:\n",
    "        actions = agent.act(states=states)\n",
    "        states, terminal, reward = environment.execute(actions=actions)\n",
    "        agent.observe(terminal=terminal, reward=reward)"
   ]
  },
  {
   "cell_type": "markdown",
   "metadata": {},
   "source": [
    "# Check: Trained Agent Performance\n",
    "\n",
    "You can plainly see that this is toggling the heater on/off to keep the temperature within the target band!"
   ]
  },
  {
   "cell_type": "code",
   "execution_count": 11,
   "metadata": {
    "scrolled": true
   },
   "outputs": [
    {
     "data": {
      "image/png": "[encoded data removed]",
      "text/plain": [
       "<Figure size 864x288 with 1 Axes>"
      ]
     },
     "metadata": {
      "needs_background": "light"
     },
     "output_type": "display_data"
    }
   ],
   "source": [
    "### Initialize\n",
    "environment.reset()\n",
    "\n",
    "## Creation of the environment via Environment.create() creates\n",
    "## a wrapper class around the original Environment defined here.\n",
    "## That wrapper mainly keeps track of the number of timesteps.\n",
    "## In order to alter the attributes of your instance of the original\n",
    "## class, like to set the initial temp to a custom value, like here,\n",
    "## you need to access the `environment` member of this wrapped class.\n",
    "## That is why you see the way to set the current_temp like below.\n",
    "# environment.environment.current_temp = np.array([1.0])\n",
    "# states = environment.environment.current_temp\n",
    "\n",
    "internals = agent.initial_internals()\n",
    "terminal = False\n",
    "\n",
    "### Run an episode\n",
    "temp = [environment.environment.state[0]]\n",
    "lstActions = [environment.environment.switchon_laststate]\n",
    "while not terminal:\n",
    "    actions, internals = agent.act(states=environment.environment.state, internals=internals, evaluation=True)\n",
    "    states, terminal, reward = environment.execute(actions=actions)\n",
    "    temp += [states[0]]\n",
    "    lstActions += [actions]\n",
    "    if states[1] < 0 and lstActions[-1] == 1 and lstActions[-2] == 0:\n",
    "        print(f\"Exceeded restart threshold: {environment.environment.timestep}.\")\n",
    "\n",
    "### Plot the run\n",
    "plt.figure(figsize=(12, 4))\n",
    "ax=plt.subplot()\n",
    "ax.set_ylim([0.0, 1.0])\n",
    "plt.plot(range(len(temp)), temp)\n",
    "plt.hlines(y=0.4, xmin=0, xmax=99, color='r')\n",
    "plt.hlines(y=0.6, xmin=0, xmax=99, color='r')\n",
    "plt.xlabel('Timestep')\n",
    "plt.ylabel('Temperature')\n",
    "plt.title('Temperature vs. Timestep')\n",
    "plt.show()"
   ]
  },
  {
   "cell_type": "code",
   "execution_count": null,
   "metadata": {},
   "outputs": [],
   "source": []
  }
 ],
 "metadata": {
  "kernelspec": {
   "display_name": "Python 3",
   "language": "python",
   "name": "python3"
  },
  "language_info": {
   "codemirror_mode": {
    "name": "ipython",
    "version": 3
   },
   "file_extension": ".py",
   "mimetype": "text/x-python",
   "name": "python",
   "nbconvert_exporter": "python",
   "pygments_lexer": "ipython3",
   "version": "3.7.6"
  }
 },
 "nbformat": 4,
 "nbformat_minor": 4
}
