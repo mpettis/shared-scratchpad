{
 "cells": [
  {
   "cell_type": "markdown",
   "metadata": {},
   "source": [
    "# Thermostatic Control - Max Start-ups with explicit state\n",
    "\n",
    "Here we make and enviroment like the bang-bang controller prior, but with a limit on the number of times it can start up in a given window.  For completeness, here are the features of this environment:\n",
    "\n",
    "- Has a response time constant tau that dictates how fast the system responds to heater on/off states.\n",
    "- Keeps track of how many times it has turned on in a past window of time, and limits it, otherwise, we consider it a failure.  The idea is that toggling on too many times will damage/break equipment, and we model that here.\n",
    "- We also expose the 'number of startups left in window' as a state parameter.\n",
    "\n",
    "To this end, the most complicated code exposed here is that of creating an environment that will correctly model the \"fail if it starts too many times\".\n",
    "\n",
    "A point of emphasis here is on hitting the failure condition while training.  Depending on the circumstances, failure while training can be either cheap or expensive.  When training RL to win at \"Go\", many millions of games were played, and games that were lost provided some of the signal for learning a winning policy.  But those game losses were cheap -- nothing broke and no one was harmed.  However, learning policies in industrial settings or health care can be expensive or dangerous to people.  A sub-optimal policy in the midst of training is sub-optimal because it will make a bad decision that can cause harm to a machine or person.  This means that during training, episodes that terminate in failure are expensive.  Here we make a model to give us insight into this phenomenon."
   ]
  },
  {
   "cell_type": "markdown",
   "metadata": {},
   "source": [
    "# Set up the environment\n",
    "\n",
    "Here we code the environment class to use.  It will include logic that terminates an episode before it reaches its `max_timestep` limit."
   ]
  },
  {
   "cell_type": "code",
   "execution_count": 1,
   "metadata": {},
   "outputs": [],
   "source": [
    "import math\n",
    "import numpy as np\n",
    "import pandas as pd\n",
    "import matplotlib.pyplot as plt\n",
    "from tensorforce.environments import Environment\n",
    "from tensorforce.agents import Agent"
   ]
  },
  {
   "cell_type": "code",
   "execution_count": 103,
   "metadata": {},
   "outputs": [],
   "source": [
    "class ThermostatEnvironment(Environment):\n",
    "    \n",
    "    def __init__(self):\n",
    "        ## Some initializations.  Will eventually parameterize this in the constructor.\n",
    "        self.tau = 3.0\n",
    "        self.current_temp = 0.0\n",
    "        self.timestep = 0\n",
    "        self.max_timestep = 100\n",
    "        self.exceed_toggle_on_reward = -1.0\n",
    "        \n",
    "        ## Heater on states\n",
    "        self.last_heater_state = 0\n",
    "        self.max_toggle_ons = 3 # max number of times you can turn heater on...\n",
    "        self.toggle_ons_left = self.max_toggle_ons # Track toggle ons left in window\n",
    "        self.window_toggle_ons = 20 # Window of time over which you can use your max_toggle_ons\n",
    "        self.off_to_on = [] # timesteps at which state went off to on\n",
    "    \n",
    "        super().__init__()\n",
    "\n",
    "    def states(self):\n",
    "        \"\"\"Two state components:\n",
    "               1. current_temp\n",
    "               2. toggle_ons_left\n",
    "        \"\"\"\n",
    "        return dict(type='float', shape=(2,))\n",
    "\n",
    "    def actions(self):\n",
    "        return dict(type='int', num_values=2)\n",
    "\n",
    "    # Optional, should only be defined if environment has a natural maximum\n",
    "    # episode length\n",
    "    def max_episode_timesteps(self):\n",
    "        # return super().max_episode_timesteps()\n",
    "        return self.max_timestep\n",
    "\n",
    "    # Optional\n",
    "    def close(self):\n",
    "        super().close()\n",
    "\n",
    "    def reset(self):\n",
    "        self.timestep = 0\n",
    "        self.last_heater_state = 0\n",
    "        self.off_to_on = []\n",
    "        self.toggle_ons_left = self.max_toggle_ons\n",
    "        self.current_temp = np.random.random(size=(1,))\n",
    "        return np.array([self.current_temp, self.toggle_ons_left], dtype=np.float)\n",
    "\n",
    "    def response(self, action):\n",
    "        \"\"\"Respond to an action.  When the action is 1, the temperature\n",
    "        exponentially decays approaches 1.0.  When the action is 0,\n",
    "        the current temperature decays towards 0.0.\n",
    "        \"\"\"\n",
    "        return action + (self.current_temp - action) * math.exp(-1.0 / self.tau)\n",
    "\n",
    "    def reward_compute(self):\n",
    "        \"\"\" The reward here is 0 if the current temp is between 0.4 and 0.6,\n",
    "        else it is distance the temp is away from the 0.4 or 0.6 boundary.\n",
    "        \"\"\"\n",
    "        delta = abs(self.current_temp - 0.5)\n",
    "        if delta < 0.1:\n",
    "            return 0.0\n",
    "        else:\n",
    "            return -delta[0] + 0.1\n",
    "\n",
    "    def execute(self, actions):\n",
    "        ## Check the action is either 0 or 1 -- heater on or off.\n",
    "        assert actions == 0 or actions == 1\n",
    "\n",
    "        ## Increment timestamp\n",
    "        self.timestep += 1\n",
    "        \n",
    "        ## Update the current_temp\n",
    "        self.current_temp = self.response(actions)\n",
    "\n",
    "        ## Update off_to_ons if necessary\n",
    "        if actions == 1 and self.last_heater_state == 0:\n",
    "            self.off_to_on += [self.timestep]\n",
    "            \n",
    "        ## Update last heater state to current state\n",
    "        self.last_heater_state = actions\n",
    "        \n",
    "        ## Check if we have violated max_startups, return as necessary\n",
    "        ## Make a list of the events within the window\n",
    "        lstWindowEvents = [e for e in self.off_to_on\n",
    "                              if self.timestep - e <= self.window_toggle_ons]\n",
    "\n",
    "        ## Calculate number of toggle_ons_left\n",
    "        self.toggle_ons_left = self.max_toggle_ons - len(lstWindowEvents)\n",
    "        \n",
    "        ## Conditional returns\n",
    "        ##\n",
    "        ## If we have done too many startups, end episode, return big penalty\n",
    "        if self.toggle_ons_left < 0:\n",
    "            return np.array([self.current_temp, self.toggle_ons_left], dtype=np.float), True, self.exceed_toggle_on_reward\n",
    "        \n",
    "        ## If we exceed max_timestamps, end episode.\n",
    "        if self.timestep > self.max_episode_timesteps():\n",
    "            return np.array([self.current_temp, self.toggle_ons_left], dtype=np.float), True, self.reward_compute()\n",
    "        \n",
    "        ## Default return\n",
    "        return np.array([self.current_temp, self.toggle_ons_left], dtype=np.float), False, self.reward_compute()\n",
    "\n",
    "## Instantiate environment object\n",
    "# environment = ThermostatEnvironment()\n",
    "environment = environment = Environment.create(\n",
    "    environment=ThermostatEnvironment,\n",
    "    max_episode_timesteps=100)"
   ]
  },
  {
   "cell_type": "code",
   "execution_count": 104,
   "metadata": {},
   "outputs": [
    {
     "name": "stdout",
     "output_type": "stream",
     "text": [
      "[0.1607622 3.       ]\n",
      "(array([0.39865984, 2.        ]), 0, -0.0013401619951956822)\n",
      "(array([0.28565226, 2.        ]), 0, -0.11434774380128301)\n",
      "(array([0.48814747, 1.        ]), 0, 0.0)\n",
      "(array([0.34977295, 1.        ]), 0, -0.05022705003609765)\n",
      "(array([0.53409196, 0.        ]), 0, 0.0)\n",
      "(array([0.38269361, 0.        ]), 0, -0.01730638817280508)\n",
      "(array([ 0.55768064, -1.        ]), 1, -1.0)\n",
      "(array([ 0.68306433, -1.        ]), 1, -1.0)\n",
      "(array([ 0.77290567, -1.        ]), 1, -1.0)\n",
      "[1, 3, 5, 7]\n",
      "9\n",
      "9\n"
     ]
    }
   ],
   "source": [
    "## Initialize\n",
    "## Test the environment does what I expect it to\n",
    "print(environment.reset())\n",
    "\n",
    "print(environment.execute(1))\n",
    "print(environment.execute(0))\n",
    "print(environment.execute(1))\n",
    "print(environment.execute(0))\n",
    "print(environment.execute(1))\n",
    "print(environment.execute(0))\n",
    "print(environment.execute(1))\n",
    "print(environment.execute(1))\n",
    "print(environment.execute(1))\n",
    "print(environment.environment.off_to_on)\n",
    "print(environment.timestep)\n",
    "print(environment.environment.timestep)"
   ]
  },
  {
   "cell_type": "code",
   "execution_count": 105,
   "metadata": {},
   "outputs": [
    {
     "name": "stdout",
     "output_type": "stream",
     "text": [
      "INFO:tensorflow:Graph was finalized.\n",
      "INFO:tensorflow:Running local_init_op.\n",
      "INFO:tensorflow:Done running local_init_op.\n"
     ]
    }
   ],
   "source": [
    "## Agent setup\n",
    "agent = Agent.create(\n",
    "    agent='tensorforce', environment=environment, update=32,\n",
    "    objective='policy_gradient', reward_estimation=dict(horizon=25)\n",
    ")\n",
    "\n",
    "## Agent setup\n",
    "# agent = Agent.create(\n",
    "#     agent='ppo', environment=environment, batch_size=20, learning_rate=1e-3,\n",
    "#     exploration=0.1\n",
    "# )\n"
   ]
  },
  {
   "cell_type": "code",
   "execution_count": null,
   "metadata": {},
   "outputs": [],
   "source": [
    "# Train\n",
    "for _ in range(10000):\n",
    "    states = environment.reset()\n",
    "    terminal = False\n",
    "    while not terminal:\n",
    "        actions = agent.act(states=states)\n",
    "        states, terminal, reward = environment.execute(actions=actions)\n",
    "        #print(f\"{states}, {terminal}, {reward}\")\n",
    "        agent.observe(terminal=terminal, reward=reward)"
   ]
  },
  {
   "cell_type": "code",
   "execution_count": 124,
   "metadata": {},
   "outputs": [
    {
     "name": "stdout",
     "output_type": "stream",
     "text": [
      "[0.43831554 3.        ]\n",
      "[1, 4, 6, 9]\n"
     ]
    },
    {
     "data": {
      "image/png": "[encoded data removed]",
      "text/plain": [
       "<Figure size 864x288 with 1 Axes>"
      ]
     },
     "metadata": {
      "needs_background": "light"
     },
     "output_type": "display_data"
    }
   ],
   "source": [
    "### Initialize\n",
    "print(environment.reset())\n",
    "\n",
    "## Creation of the environment via Environment.create() creates\n",
    "## a wrapper class around the original Environment defined here.\n",
    "## That wrapper mainly keeps track of the number of timesteps.\n",
    "## In order to alter the attributes of your instance of the original\n",
    "## class, like to set the initial temp to a custom value, like here,\n",
    "## you need to access the `environment` member of this wrapped class.\n",
    "## That is why you see the way to set the current_temp like below.\n",
    "# environment.environment.current_temp = np.array([1.0])\n",
    "# states = environment.environment.current_temp\n",
    "\n",
    "internals = agent.initial_internals()\n",
    "terminal = False\n",
    "\n",
    "### Run an episode\n",
    "temp = [environment.environment.current_temp[0]]\n",
    "while not terminal:\n",
    "    actions, internals = agent.act(states=states, internals=internals, evaluation=True)\n",
    "    states, terminal, reward = environment.execute(actions=actions)\n",
    "    temp += [states[0]]\n",
    "\n",
    "# print(temp)\n",
    "print(environment.environment.off_to_on)\n",
    "\n",
    "### Plot the run\n",
    "plt.figure(figsize=(12, 4))\n",
    "ax=plt.subplot()\n",
    "ax.set_ylim([0.0, 1.0])\n",
    "plt.plot(range(len(temp)), temp)\n",
    "plt.hlines(y=0.4, xmin=0, xmax=99, color='r')\n",
    "plt.hlines(y=0.6, xmin=0, xmax=99, color='r')\n",
    "plt.xlabel('Timestep')\n",
    "plt.ylabel('Temperature')\n",
    "plt.title('Temperature vs. Timestep')\n",
    "plt.show()"
   ]
  }
 ],
 "metadata": {
  "kernelspec": {
   "display_name": "Python 3",
   "language": "python",
   "name": "python3"
  },
  "language_info": {
   "codemirror_mode": {
    "name": "ipython",
    "version": 3
   },
   "file_extension": ".py",
   "mimetype": "text/x-python",
   "name": "python",
   "nbconvert_exporter": "python",
   "pygments_lexer": "ipython3",
   "version": "3.7.6"
  }
 },
 "nbformat": 4,
 "nbformat_minor": 4
}
